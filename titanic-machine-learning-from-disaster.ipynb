{
 "cells": [
  {
   "cell_type": "markdown",
   "metadata": {},
   "source": [
    "## Importing libraries"
   ]
  },
  {
   "cell_type": "code",
   "execution_count": 42,
   "metadata": {
    "_cell_guid": "b1076dfc-b9ad-4769-8c92-a6c4dae69d19",
    "_uuid": "8f2839f25d086af736a60e9eeb907d3b93b6e0e5",
    "execution": {
     "iopub.execute_input": "2025-05-24T15:20:41.603492Z",
     "iopub.status.busy": "2025-05-24T15:20:41.603108Z",
     "iopub.status.idle": "2025-05-24T15:20:41.608929Z",
     "shell.execute_reply": "2025-05-24T15:20:41.607648Z",
     "shell.execute_reply.started": "2025-05-24T15:20:41.603468Z"
    },
    "trusted": true
   },
   "outputs": [],
   "source": [
    "import pandas as pd \n",
    "import numpy as np \n",
    "import matplotlib.pyplot as plt \n",
    "import seaborn as sns"
   ]
  },
  {
   "cell_type": "code",
   "execution_count": 43,
   "metadata": {
    "execution": {
     "iopub.execute_input": "2025-05-24T15:20:41.611120Z",
     "iopub.status.busy": "2025-05-24T15:20:41.610765Z",
     "iopub.status.idle": "2025-05-24T15:20:41.641746Z",
     "shell.execute_reply": "2025-05-24T15:20:41.640730Z",
     "shell.execute_reply.started": "2025-05-24T15:20:41.611097Z"
    },
    "trusted": true
   },
   "outputs": [],
   "source": [
    "test = pd.read_csv(\"test.csv\")\n",
    "train = pd.read_csv(\"train.csv\")"
   ]
  },
  {
   "cell_type": "code",
   "execution_count": 44,
   "metadata": {
    "execution": {
     "iopub.execute_input": "2025-05-24T15:20:41.642964Z",
     "iopub.status.busy": "2025-05-24T15:20:41.642668Z",
     "iopub.status.idle": "2025-05-24T15:20:41.657118Z",
     "shell.execute_reply": "2025-05-24T15:20:41.656235Z",
     "shell.execute_reply.started": "2025-05-24T15:20:41.642937Z"
    },
    "trusted": true
   },
   "outputs": [
    {
     "data": {
      "text/html": [
       "<div>\n",
       "<style scoped>\n",
       "    .dataframe tbody tr th:only-of-type {\n",
       "        vertical-align: middle;\n",
       "    }\n",
       "\n",
       "    .dataframe tbody tr th {\n",
       "        vertical-align: top;\n",
       "    }\n",
       "\n",
       "    .dataframe thead th {\n",
       "        text-align: right;\n",
       "    }\n",
       "</style>\n",
       "<table border=\"1\" class=\"dataframe\">\n",
       "  <thead>\n",
       "    <tr style=\"text-align: right;\">\n",
       "      <th></th>\n",
       "      <th>PassengerId</th>\n",
       "      <th>Pclass</th>\n",
       "      <th>Name</th>\n",
       "      <th>Sex</th>\n",
       "      <th>Age</th>\n",
       "      <th>SibSp</th>\n",
       "      <th>Parch</th>\n",
       "      <th>Ticket</th>\n",
       "      <th>Fare</th>\n",
       "      <th>Cabin</th>\n",
       "      <th>Embarked</th>\n",
       "    </tr>\n",
       "  </thead>\n",
       "  <tbody>\n",
       "    <tr>\n",
       "      <th>0</th>\n",
       "      <td>892</td>\n",
       "      <td>3</td>\n",
       "      <td>Kelly, Mr. James</td>\n",
       "      <td>male</td>\n",
       "      <td>34.5</td>\n",
       "      <td>0</td>\n",
       "      <td>0</td>\n",
       "      <td>330911</td>\n",
       "      <td>7.8292</td>\n",
       "      <td>NaN</td>\n",
       "      <td>Q</td>\n",
       "    </tr>\n",
       "    <tr>\n",
       "      <th>1</th>\n",
       "      <td>893</td>\n",
       "      <td>3</td>\n",
       "      <td>Wilkes, Mrs. James (Ellen Needs)</td>\n",
       "      <td>female</td>\n",
       "      <td>47.0</td>\n",
       "      <td>1</td>\n",
       "      <td>0</td>\n",
       "      <td>363272</td>\n",
       "      <td>7.0000</td>\n",
       "      <td>NaN</td>\n",
       "      <td>S</td>\n",
       "    </tr>\n",
       "    <tr>\n",
       "      <th>2</th>\n",
       "      <td>894</td>\n",
       "      <td>2</td>\n",
       "      <td>Myles, Mr. Thomas Francis</td>\n",
       "      <td>male</td>\n",
       "      <td>62.0</td>\n",
       "      <td>0</td>\n",
       "      <td>0</td>\n",
       "      <td>240276</td>\n",
       "      <td>9.6875</td>\n",
       "      <td>NaN</td>\n",
       "      <td>Q</td>\n",
       "    </tr>\n",
       "    <tr>\n",
       "      <th>3</th>\n",
       "      <td>895</td>\n",
       "      <td>3</td>\n",
       "      <td>Wirz, Mr. Albert</td>\n",
       "      <td>male</td>\n",
       "      <td>27.0</td>\n",
       "      <td>0</td>\n",
       "      <td>0</td>\n",
       "      <td>315154</td>\n",
       "      <td>8.6625</td>\n",
       "      <td>NaN</td>\n",
       "      <td>S</td>\n",
       "    </tr>\n",
       "    <tr>\n",
       "      <th>4</th>\n",
       "      <td>896</td>\n",
       "      <td>3</td>\n",
       "      <td>Hirvonen, Mrs. Alexander (Helga E Lindqvist)</td>\n",
       "      <td>female</td>\n",
       "      <td>22.0</td>\n",
       "      <td>1</td>\n",
       "      <td>1</td>\n",
       "      <td>3101298</td>\n",
       "      <td>12.2875</td>\n",
       "      <td>NaN</td>\n",
       "      <td>S</td>\n",
       "    </tr>\n",
       "  </tbody>\n",
       "</table>\n",
       "</div>"
      ],
      "text/plain": [
       "   PassengerId  Pclass                                          Name     Sex  \\\n",
       "0          892       3                              Kelly, Mr. James    male   \n",
       "1          893       3              Wilkes, Mrs. James (Ellen Needs)  female   \n",
       "2          894       2                     Myles, Mr. Thomas Francis    male   \n",
       "3          895       3                              Wirz, Mr. Albert    male   \n",
       "4          896       3  Hirvonen, Mrs. Alexander (Helga E Lindqvist)  female   \n",
       "\n",
       "    Age  SibSp  Parch   Ticket     Fare Cabin Embarked  \n",
       "0  34.5      0      0   330911   7.8292   NaN        Q  \n",
       "1  47.0      1      0   363272   7.0000   NaN        S  \n",
       "2  62.0      0      0   240276   9.6875   NaN        Q  \n",
       "3  27.0      0      0   315154   8.6625   NaN        S  \n",
       "4  22.0      1      1  3101298  12.2875   NaN        S  "
      ]
     },
     "execution_count": 44,
     "metadata": {},
     "output_type": "execute_result"
    }
   ],
   "source": [
    "test.head()\n"
   ]
  },
  {
   "cell_type": "code",
   "execution_count": 45,
   "metadata": {
    "execution": {
     "iopub.execute_input": "2025-05-24T15:20:41.658966Z",
     "iopub.status.busy": "2025-05-24T15:20:41.658704Z",
     "iopub.status.idle": "2025-05-24T15:20:41.683822Z",
     "shell.execute_reply": "2025-05-24T15:20:41.682877Z",
     "shell.execute_reply.started": "2025-05-24T15:20:41.658944Z"
    },
    "trusted": true
   },
   "outputs": [
    {
     "data": {
      "text/html": [
       "<div>\n",
       "<style scoped>\n",
       "    .dataframe tbody tr th:only-of-type {\n",
       "        vertical-align: middle;\n",
       "    }\n",
       "\n",
       "    .dataframe tbody tr th {\n",
       "        vertical-align: top;\n",
       "    }\n",
       "\n",
       "    .dataframe thead th {\n",
       "        text-align: right;\n",
       "    }\n",
       "</style>\n",
       "<table border=\"1\" class=\"dataframe\">\n",
       "  <thead>\n",
       "    <tr style=\"text-align: right;\">\n",
       "      <th></th>\n",
       "      <th>PassengerId</th>\n",
       "      <th>Survived</th>\n",
       "      <th>Pclass</th>\n",
       "      <th>Name</th>\n",
       "      <th>Sex</th>\n",
       "      <th>Age</th>\n",
       "      <th>SibSp</th>\n",
       "      <th>Parch</th>\n",
       "      <th>Ticket</th>\n",
       "      <th>Fare</th>\n",
       "      <th>Cabin</th>\n",
       "      <th>Embarked</th>\n",
       "    </tr>\n",
       "  </thead>\n",
       "  <tbody>\n",
       "    <tr>\n",
       "      <th>0</th>\n",
       "      <td>1</td>\n",
       "      <td>0</td>\n",
       "      <td>3</td>\n",
       "      <td>Braund, Mr. Owen Harris</td>\n",
       "      <td>male</td>\n",
       "      <td>22.0</td>\n",
       "      <td>1</td>\n",
       "      <td>0</td>\n",
       "      <td>A/5 21171</td>\n",
       "      <td>7.2500</td>\n",
       "      <td>NaN</td>\n",
       "      <td>S</td>\n",
       "    </tr>\n",
       "    <tr>\n",
       "      <th>1</th>\n",
       "      <td>2</td>\n",
       "      <td>1</td>\n",
       "      <td>1</td>\n",
       "      <td>Cumings, Mrs. John Bradley (Florence Briggs Th...</td>\n",
       "      <td>female</td>\n",
       "      <td>38.0</td>\n",
       "      <td>1</td>\n",
       "      <td>0</td>\n",
       "      <td>PC 17599</td>\n",
       "      <td>71.2833</td>\n",
       "      <td>C85</td>\n",
       "      <td>C</td>\n",
       "    </tr>\n",
       "    <tr>\n",
       "      <th>2</th>\n",
       "      <td>3</td>\n",
       "      <td>1</td>\n",
       "      <td>3</td>\n",
       "      <td>Heikkinen, Miss. Laina</td>\n",
       "      <td>female</td>\n",
       "      <td>26.0</td>\n",
       "      <td>0</td>\n",
       "      <td>0</td>\n",
       "      <td>STON/O2. 3101282</td>\n",
       "      <td>7.9250</td>\n",
       "      <td>NaN</td>\n",
       "      <td>S</td>\n",
       "    </tr>\n",
       "    <tr>\n",
       "      <th>3</th>\n",
       "      <td>4</td>\n",
       "      <td>1</td>\n",
       "      <td>1</td>\n",
       "      <td>Futrelle, Mrs. Jacques Heath (Lily May Peel)</td>\n",
       "      <td>female</td>\n",
       "      <td>35.0</td>\n",
       "      <td>1</td>\n",
       "      <td>0</td>\n",
       "      <td>113803</td>\n",
       "      <td>53.1000</td>\n",
       "      <td>C123</td>\n",
       "      <td>S</td>\n",
       "    </tr>\n",
       "    <tr>\n",
       "      <th>4</th>\n",
       "      <td>5</td>\n",
       "      <td>0</td>\n",
       "      <td>3</td>\n",
       "      <td>Allen, Mr. William Henry</td>\n",
       "      <td>male</td>\n",
       "      <td>35.0</td>\n",
       "      <td>0</td>\n",
       "      <td>0</td>\n",
       "      <td>373450</td>\n",
       "      <td>8.0500</td>\n",
       "      <td>NaN</td>\n",
       "      <td>S</td>\n",
       "    </tr>\n",
       "  </tbody>\n",
       "</table>\n",
       "</div>"
      ],
      "text/plain": [
       "   PassengerId  Survived  Pclass  \\\n",
       "0            1         0       3   \n",
       "1            2         1       1   \n",
       "2            3         1       3   \n",
       "3            4         1       1   \n",
       "4            5         0       3   \n",
       "\n",
       "                                                Name     Sex   Age  SibSp  \\\n",
       "0                            Braund, Mr. Owen Harris    male  22.0      1   \n",
       "1  Cumings, Mrs. John Bradley (Florence Briggs Th...  female  38.0      1   \n",
       "2                             Heikkinen, Miss. Laina  female  26.0      0   \n",
       "3       Futrelle, Mrs. Jacques Heath (Lily May Peel)  female  35.0      1   \n",
       "4                           Allen, Mr. William Henry    male  35.0      0   \n",
       "\n",
       "   Parch            Ticket     Fare Cabin Embarked  \n",
       "0      0         A/5 21171   7.2500   NaN        S  \n",
       "1      0          PC 17599  71.2833   C85        C  \n",
       "2      0  STON/O2. 3101282   7.9250   NaN        S  \n",
       "3      0            113803  53.1000  C123        S  \n",
       "4      0            373450   8.0500   NaN        S  "
      ]
     },
     "execution_count": 45,
     "metadata": {},
     "output_type": "execute_result"
    }
   ],
   "source": [
    "train.head()"
   ]
  },
  {
   "cell_type": "markdown",
   "metadata": {},
   "source": [
    "## Data Cleaning"
   ]
  },
  {
   "cell_type": "code",
   "execution_count": 46,
   "metadata": {
    "execution": {
     "iopub.execute_input": "2025-05-24T15:20:41.685067Z",
     "iopub.status.busy": "2025-05-24T15:20:41.684731Z",
     "iopub.status.idle": "2025-05-24T15:20:41.710076Z",
     "shell.execute_reply": "2025-05-24T15:20:41.708681Z",
     "shell.execute_reply.started": "2025-05-24T15:20:41.685036Z"
    },
    "trusted": true
   },
   "outputs": [
    {
     "name": "stdout",
     "output_type": "stream",
     "text": [
      "<class 'pandas.core.frame.DataFrame'>\n",
      "RangeIndex: 891 entries, 0 to 890\n",
      "Data columns (total 12 columns):\n",
      " #   Column       Non-Null Count  Dtype  \n",
      "---  ------       --------------  -----  \n",
      " 0   PassengerId  891 non-null    int64  \n",
      " 1   Survived     891 non-null    int64  \n",
      " 2   Pclass       891 non-null    int64  \n",
      " 3   Name         891 non-null    object \n",
      " 4   Sex          891 non-null    object \n",
      " 5   Age          714 non-null    float64\n",
      " 6   SibSp        891 non-null    int64  \n",
      " 7   Parch        891 non-null    int64  \n",
      " 8   Ticket       891 non-null    object \n",
      " 9   Fare         891 non-null    float64\n",
      " 10  Cabin        204 non-null    object \n",
      " 11  Embarked     889 non-null    object \n",
      "dtypes: float64(2), int64(5), object(5)\n",
      "memory usage: 83.7+ KB\n"
     ]
    }
   ],
   "source": [
    "train.info()"
   ]
  },
  {
   "cell_type": "code",
   "execution_count": 47,
   "metadata": {
    "execution": {
     "iopub.execute_input": "2025-05-24T15:20:41.711338Z",
     "iopub.status.busy": "2025-05-24T15:20:41.711033Z",
     "iopub.status.idle": "2025-05-24T15:20:41.736680Z",
     "shell.execute_reply": "2025-05-24T15:20:41.735577Z",
     "shell.execute_reply.started": "2025-05-24T15:20:41.711317Z"
    },
    "trusted": true
   },
   "outputs": [
    {
     "data": {
      "text/plain": [
       "PassengerId      0\n",
       "Survived         0\n",
       "Pclass           0\n",
       "Name             0\n",
       "Sex              0\n",
       "Age            177\n",
       "SibSp            0\n",
       "Parch            0\n",
       "Ticket           0\n",
       "Fare             0\n",
       "Cabin          687\n",
       "Embarked         2\n",
       "dtype: int64"
      ]
     },
     "execution_count": 47,
     "metadata": {},
     "output_type": "execute_result"
    }
   ],
   "source": [
    "train.isnull().sum()"
   ]
  },
  {
   "cell_type": "code",
   "execution_count": 48,
   "metadata": {
    "execution": {
     "iopub.execute_input": "2025-05-24T15:20:41.738306Z",
     "iopub.status.busy": "2025-05-24T15:20:41.737944Z",
     "iopub.status.idle": "2025-05-24T15:20:41.762511Z",
     "shell.execute_reply": "2025-05-24T15:20:41.761360Z",
     "shell.execute_reply.started": "2025-05-24T15:20:41.738277Z"
    },
    "trusted": true
   },
   "outputs": [],
   "source": [
    "train['Age'] = train['Age'].fillna(train['Age'].mean())"
   ]
  },
  {
   "cell_type": "code",
   "execution_count": 49,
   "metadata": {
    "execution": {
     "iopub.execute_input": "2025-05-24T15:20:41.763787Z",
     "iopub.status.busy": "2025-05-24T15:20:41.763496Z",
     "iopub.status.idle": "2025-05-24T15:20:41.786931Z",
     "shell.execute_reply": "2025-05-24T15:20:41.786047Z",
     "shell.execute_reply.started": "2025-05-24T15:20:41.763758Z"
    },
    "trusted": true
   },
   "outputs": [],
   "source": [
    "train = train.drop(['PassengerId','Name','Ticket','Cabin'],axis=1)\n",
    "test = test.drop(['PassengerId','Name','Ticket','Cabin'],axis=1)"
   ]
  },
  {
   "cell_type": "code",
   "execution_count": 50,
   "metadata": {
    "execution": {
     "iopub.execute_input": "2025-05-24T15:20:41.789467Z",
     "iopub.status.busy": "2025-05-24T15:20:41.788941Z",
     "iopub.status.idle": "2025-05-24T15:20:41.823873Z",
     "shell.execute_reply": "2025-05-24T15:20:41.821572Z",
     "shell.execute_reply.started": "2025-05-24T15:20:41.789440Z"
    },
    "trusted": true
   },
   "outputs": [
    {
     "data": {
      "text/html": [
       "<div>\n",
       "<style scoped>\n",
       "    .dataframe tbody tr th:only-of-type {\n",
       "        vertical-align: middle;\n",
       "    }\n",
       "\n",
       "    .dataframe tbody tr th {\n",
       "        vertical-align: top;\n",
       "    }\n",
       "\n",
       "    .dataframe thead th {\n",
       "        text-align: right;\n",
       "    }\n",
       "</style>\n",
       "<table border=\"1\" class=\"dataframe\">\n",
       "  <thead>\n",
       "    <tr style=\"text-align: right;\">\n",
       "      <th></th>\n",
       "      <th>Survived</th>\n",
       "      <th>Pclass</th>\n",
       "      <th>Sex</th>\n",
       "      <th>Age</th>\n",
       "      <th>SibSp</th>\n",
       "      <th>Parch</th>\n",
       "      <th>Fare</th>\n",
       "      <th>Embarked</th>\n",
       "    </tr>\n",
       "  </thead>\n",
       "  <tbody>\n",
       "    <tr>\n",
       "      <th>61</th>\n",
       "      <td>1</td>\n",
       "      <td>1</td>\n",
       "      <td>female</td>\n",
       "      <td>38.0</td>\n",
       "      <td>0</td>\n",
       "      <td>0</td>\n",
       "      <td>80.0</td>\n",
       "      <td>NaN</td>\n",
       "    </tr>\n",
       "    <tr>\n",
       "      <th>829</th>\n",
       "      <td>1</td>\n",
       "      <td>1</td>\n",
       "      <td>female</td>\n",
       "      <td>62.0</td>\n",
       "      <td>0</td>\n",
       "      <td>0</td>\n",
       "      <td>80.0</td>\n",
       "      <td>NaN</td>\n",
       "    </tr>\n",
       "  </tbody>\n",
       "</table>\n",
       "</div>"
      ],
      "text/plain": [
       "     Survived  Pclass     Sex   Age  SibSp  Parch  Fare Embarked\n",
       "61          1       1  female  38.0      0      0  80.0      NaN\n",
       "829         1       1  female  62.0      0      0  80.0      NaN"
      ]
     },
     "execution_count": 50,
     "metadata": {},
     "output_type": "execute_result"
    }
   ],
   "source": [
    "train[train['Embarked'].isna()]"
   ]
  },
  {
   "cell_type": "code",
   "execution_count": 51,
   "metadata": {
    "execution": {
     "iopub.execute_input": "2025-05-24T15:20:41.826900Z",
     "iopub.status.busy": "2025-05-24T15:20:41.826600Z",
     "iopub.status.idle": "2025-05-24T15:20:41.852514Z",
     "shell.execute_reply": "2025-05-24T15:20:41.851508Z",
     "shell.execute_reply.started": "2025-05-24T15:20:41.826877Z"
    },
    "trusted": true
   },
   "outputs": [],
   "source": [
    "train['Embarked'] = train['Embarked'].fillna(train['Embarked'].mode()[0])\n"
   ]
  },
  {
   "cell_type": "code",
   "execution_count": 52,
   "metadata": {
    "execution": {
     "iopub.execute_input": "2025-05-24T15:20:41.855295Z",
     "iopub.status.busy": "2025-05-24T15:20:41.854955Z",
     "iopub.status.idle": "2025-05-24T15:20:41.881771Z",
     "shell.execute_reply": "2025-05-24T15:20:41.879506Z",
     "shell.execute_reply.started": "2025-05-24T15:20:41.855263Z"
    },
    "trusted": true
   },
   "outputs": [
    {
     "data": {
      "text/plain": [
       "Survived    0\n",
       "Pclass      0\n",
       "Sex         0\n",
       "Age         0\n",
       "SibSp       0\n",
       "Parch       0\n",
       "Fare        0\n",
       "Embarked    0\n",
       "dtype: int64"
      ]
     },
     "execution_count": 52,
     "metadata": {},
     "output_type": "execute_result"
    }
   ],
   "source": [
    "train.isnull().sum()"
   ]
  },
  {
   "cell_type": "markdown",
   "metadata": {},
   "source": [
    "## data visualization"
   ]
  },
  {
   "cell_type": "code",
   "execution_count": 53,
   "metadata": {
    "execution": {
     "iopub.execute_input": "2025-05-24T15:20:41.883069Z",
     "iopub.status.busy": "2025-05-24T15:20:41.882772Z",
     "iopub.status.idle": "2025-05-24T15:20:41.912005Z",
     "shell.execute_reply": "2025-05-24T15:20:41.910760Z",
     "shell.execute_reply.started": "2025-05-24T15:20:41.883046Z"
    },
    "trusted": true
   },
   "outputs": [
    {
     "data": {
      "text/plain": [
       "(0, 10]       64\n",
       "(10, 20]     115\n",
       "(20, 30]     407\n",
       "(30, 40]     155\n",
       "(40, 50]      86\n",
       "(50, 60]      42\n",
       "(60, 70]      17\n",
       "(70, 80]       5\n",
       "(80, 90]       0\n",
       "(90, 100]      0\n",
       "Name: AgeGroup, dtype: int64"
      ]
     },
     "execution_count": 53,
     "metadata": {},
     "output_type": "execute_result"
    }
   ],
   "source": [
    "train['AgeGroup'] = pd.cut(train['Age'], bins=range(0, 101, 10))\n",
    "train['AgeGroup'].value_counts().sort_index()\n"
   ]
  },
  {
   "cell_type": "code",
   "execution_count": 54,
   "metadata": {
    "execution": {
     "iopub.execute_input": "2025-05-24T15:20:41.913626Z",
     "iopub.status.busy": "2025-05-24T15:20:41.913278Z",
     "iopub.status.idle": "2025-05-24T15:20:42.443566Z",
     "shell.execute_reply": "2025-05-24T15:20:42.442510Z",
     "shell.execute_reply.started": "2025-05-24T15:20:41.913596Z"
    },
    "trusted": true
   },
   "outputs": [
    {
     "data": {
      "image/png": "[encoded data removed]",
      "text/plain": [
       "<Figure size 1000x600 with 1 Axes>"
      ]
     },
     "metadata": {},
     "output_type": "display_data"
    }
   ],
   "source": [
    "plt.figure(figsize=(10,6))\n",
    "sns.barplot(x='AgeGroup', y='Survived', data=train)\n",
    "plt.title('Survival Rate by Age Range (10-Year Bins)')\n",
    "plt.xlabel('Age Range')\n",
    "plt.ylabel('Survival Rate')\n",
    "plt.xticks(rotation=45)\n",
    "plt.tight_layout()\n",
    "plt.show()\n"
   ]
  },
  {
   "cell_type": "code",
   "execution_count": 55,
   "metadata": {
    "execution": {
     "iopub.execute_input": "2025-05-24T15:20:42.444795Z",
     "iopub.status.busy": "2025-05-24T15:20:42.444542Z",
     "iopub.status.idle": "2025-05-24T15:20:42.842320Z",
     "shell.execute_reply": "2025-05-24T15:20:42.841318Z",
     "shell.execute_reply.started": "2025-05-24T15:20:42.444777Z"
    },
    "trusted": true
   },
   "outputs": [
    {
     "data": {
      "image/png": "[encoded data removed]",
      "text/plain": [
       "<Figure size 1000x600 with 1 Axes>"
      ]
     },
     "metadata": {},
     "output_type": "display_data"
    }
   ],
   "source": [
    "plt.figure(figsize=(10,6))\n",
    "sns.barplot(x='AgeGroup', y='Pclass', data=train)\n",
    "plt.title('Pclass  by Age Range (10-Year Bins)')\n",
    "plt.xlabel('Age Range')\n",
    "plt.ylabel('Pclass')\n",
    "plt.xticks(rotation=45)\n",
    "plt.tight_layout()\n",
    "plt.show()"
   ]
  },
  {
   "cell_type": "code",
   "execution_count": 56,
   "metadata": {
    "execution": {
     "iopub.execute_input": "2025-05-24T15:20:42.844153Z",
     "iopub.status.busy": "2025-05-24T15:20:42.843277Z",
     "iopub.status.idle": "2025-05-24T15:20:43.091780Z",
     "shell.execute_reply": "2025-05-24T15:20:43.090723Z",
     "shell.execute_reply.started": "2025-05-24T15:20:42.844122Z"
    },
    "trusted": true
   },
   "outputs": [
    {
     "data": {
      "text/plain": [
       "<Axes: xlabel='Pclass', ylabel='Survived'>"
      ]
     },
     "execution_count": 56,
     "metadata": {},
     "output_type": "execute_result"
    },
    {
     "data": {
      "image/png": "[encoded data removed]",
      "text/plain": [
       "<Figure size 640x480 with 1 Axes>"
      ]
     },
     "metadata": {},
     "output_type": "display_data"
    }
   ],
   "source": [
    "sns.barplot(x='Pclass',y='Survived',data=train)"
   ]
  },
  {
   "cell_type": "code",
   "execution_count": 57,
   "metadata": {
    "execution": {
     "iopub.execute_input": "2025-05-24T15:20:43.095057Z",
     "iopub.status.busy": "2025-05-24T15:20:43.094779Z",
     "iopub.status.idle": "2025-05-24T15:20:43.286690Z",
     "shell.execute_reply": "2025-05-24T15:20:43.285008Z",
     "shell.execute_reply.started": "2025-05-24T15:20:43.095035Z"
    },
    "trusted": true
   },
   "outputs": [
    {
     "data": {
      "text/plain": [
       "<Axes: xlabel='Sex', ylabel='Pclass'>"
      ]
     },
     "execution_count": 57,
     "metadata": {},
     "output_type": "execute_result"
    },
    {
     "data": {
      "image/png": "[encoded data removed]",
      "text/plain": [
       "<Figure size 640x480 with 1 Axes>"
      ]
     },
     "metadata": {},
     "output_type": "display_data"
    }
   ],
   "source": [
    "sns.barplot(x='Sex',y='Pclass',data=train)"
   ]
  },
  {
   "cell_type": "markdown",
   "metadata": {},
   "source": [
    "## Data preprocessing"
   ]
  },
  {
   "cell_type": "code",
   "execution_count": 58,
   "metadata": {
    "execution": {
     "iopub.execute_input": "2025-05-24T15:20:43.288252Z",
     "iopub.status.busy": "2025-05-24T15:20:43.287784Z",
     "iopub.status.idle": "2025-05-24T15:20:43.296426Z",
     "shell.execute_reply": "2025-05-24T15:20:43.294890Z",
     "shell.execute_reply.started": "2025-05-24T15:20:43.288186Z"
    },
    "trusted": true
   },
   "outputs": [],
   "source": [
    "train = train.drop(['AgeGroup'],axis=1)\n"
   ]
  },
  {
   "cell_type": "code",
   "execution_count": 59,
   "metadata": {
    "execution": {
     "iopub.execute_input": "2025-05-24T15:20:43.297788Z",
     "iopub.status.busy": "2025-05-24T15:20:43.297519Z",
     "iopub.status.idle": "2025-05-24T15:20:43.323836Z",
     "shell.execute_reply": "2025-05-24T15:20:43.322711Z",
     "shell.execute_reply.started": "2025-05-24T15:20:43.297770Z"
    },
    "trusted": true
   },
   "outputs": [],
   "source": [
    "from sklearn.preprocessing import StandardScaler\n"
   ]
  },
  {
   "cell_type": "code",
   "execution_count": 60,
   "metadata": {
    "execution": {
     "iopub.execute_input": "2025-05-24T15:20:43.325605Z",
     "iopub.status.busy": "2025-05-24T15:20:43.325255Z",
     "iopub.status.idle": "2025-05-24T15:20:43.356516Z",
     "shell.execute_reply": "2025-05-24T15:20:43.355184Z",
     "shell.execute_reply.started": "2025-05-24T15:20:43.325579Z"
    },
    "trusted": true
   },
   "outputs": [],
   "source": [
    "train[\"Sex\"]=train['Sex'].replace({'female':0,'male':1})\n",
    "test[\"Sex\"]=test['Sex'].replace({'female':0,'male':1})\n"
   ]
  },
  {
   "cell_type": "code",
   "execution_count": 61,
   "metadata": {
    "execution": {
     "iopub.execute_input": "2025-05-24T15:20:43.358606Z",
     "iopub.status.busy": "2025-05-24T15:20:43.358329Z",
     "iopub.status.idle": "2025-05-24T15:20:43.385438Z",
     "shell.execute_reply": "2025-05-24T15:20:43.384454Z",
     "shell.execute_reply.started": "2025-05-24T15:20:43.358587Z"
    },
    "trusted": true
   },
   "outputs": [
    {
     "data": {
      "text/plain": [
       "S    646\n",
       "C    168\n",
       "Q     77\n",
       "Name: Embarked, dtype: int64"
      ]
     },
     "execution_count": 61,
     "metadata": {},
     "output_type": "execute_result"
    }
   ],
   "source": [
    "train['Embarked'].value_counts()"
   ]
  },
  {
   "cell_type": "code",
   "execution_count": 62,
   "metadata": {
    "execution": {
     "iopub.execute_input": "2025-05-24T15:20:43.387575Z",
     "iopub.status.busy": "2025-05-24T15:20:43.387007Z",
     "iopub.status.idle": "2025-05-24T15:20:43.412549Z",
     "shell.execute_reply": "2025-05-24T15:20:43.411555Z",
     "shell.execute_reply.started": "2025-05-24T15:20:43.387549Z"
    },
    "trusted": true
   },
   "outputs": [],
   "source": [
    "test[\"Age\"] = test['Age'].fillna(test['Age'].median())\n",
    "test['Fare'] = test['Fare'].fillna(test['Fare'].mean())"
   ]
  },
  {
   "cell_type": "code",
   "execution_count": 63,
   "metadata": {
    "execution": {
     "iopub.execute_input": "2025-05-24T15:20:43.413792Z",
     "iopub.status.busy": "2025-05-24T15:20:43.413542Z",
     "iopub.status.idle": "2025-05-24T15:20:43.435425Z",
     "shell.execute_reply": "2025-05-24T15:20:43.434379Z",
     "shell.execute_reply.started": "2025-05-24T15:20:43.413775Z"
    },
    "trusted": true
   },
   "outputs": [],
   "source": [
    "X_train = train.drop(['Survived'],axis=1)\n",
    "y_train = train['Survived']"
   ]
  },
  {
   "cell_type": "code",
   "execution_count": 64,
   "metadata": {
    "execution": {
     "iopub.execute_input": "2025-05-24T15:20:43.436659Z",
     "iopub.status.busy": "2025-05-24T15:20:43.436413Z",
     "iopub.status.idle": "2025-05-24T15:20:43.463901Z",
     "shell.execute_reply": "2025-05-24T15:20:43.462763Z",
     "shell.execute_reply.started": "2025-05-24T15:20:43.436638Z"
    },
    "trusted": true
   },
   "outputs": [],
   "source": [
    "X_train =pd.get_dummies(X_train,columns=['Embarked'])\n",
    "X_test =pd.get_dummies(test,columns=['Embarked'])\n"
   ]
  },
  {
   "cell_type": "code",
   "execution_count": 65,
   "metadata": {
    "execution": {
     "iopub.execute_input": "2025-05-24T15:20:43.465341Z",
     "iopub.status.busy": "2025-05-24T15:20:43.464870Z",
     "iopub.status.idle": "2025-05-24T15:20:43.483808Z",
     "shell.execute_reply": "2025-05-24T15:20:43.482716Z",
     "shell.execute_reply.started": "2025-05-24T15:20:43.465316Z"
    },
    "trusted": true
   },
   "outputs": [
    {
     "data": {
      "text/html": [
       "<div>\n",
       "<style scoped>\n",
       "    .dataframe tbody tr th:only-of-type {\n",
       "        vertical-align: middle;\n",
       "    }\n",
       "\n",
       "    .dataframe tbody tr th {\n",
       "        vertical-align: top;\n",
       "    }\n",
       "\n",
       "    .dataframe thead th {\n",
       "        text-align: right;\n",
       "    }\n",
       "</style>\n",
       "<table border=\"1\" class=\"dataframe\">\n",
       "  <thead>\n",
       "    <tr style=\"text-align: right;\">\n",
       "      <th></th>\n",
       "      <th>Survived</th>\n",
       "      <th>Pclass</th>\n",
       "      <th>Sex</th>\n",
       "      <th>Age</th>\n",
       "      <th>SibSp</th>\n",
       "      <th>Parch</th>\n",
       "      <th>Fare</th>\n",
       "      <th>Embarked</th>\n",
       "    </tr>\n",
       "  </thead>\n",
       "  <tbody>\n",
       "    <tr>\n",
       "      <th>0</th>\n",
       "      <td>0</td>\n",
       "      <td>3</td>\n",
       "      <td>1</td>\n",
       "      <td>22.0</td>\n",
       "      <td>1</td>\n",
       "      <td>0</td>\n",
       "      <td>7.2500</td>\n",
       "      <td>S</td>\n",
       "    </tr>\n",
       "    <tr>\n",
       "      <th>1</th>\n",
       "      <td>1</td>\n",
       "      <td>1</td>\n",
       "      <td>0</td>\n",
       "      <td>38.0</td>\n",
       "      <td>1</td>\n",
       "      <td>0</td>\n",
       "      <td>71.2833</td>\n",
       "      <td>C</td>\n",
       "    </tr>\n",
       "    <tr>\n",
       "      <th>2</th>\n",
       "      <td>1</td>\n",
       "      <td>3</td>\n",
       "      <td>0</td>\n",
       "      <td>26.0</td>\n",
       "      <td>0</td>\n",
       "      <td>0</td>\n",
       "      <td>7.9250</td>\n",
       "      <td>S</td>\n",
       "    </tr>\n",
       "    <tr>\n",
       "      <th>3</th>\n",
       "      <td>1</td>\n",
       "      <td>1</td>\n",
       "      <td>0</td>\n",
       "      <td>35.0</td>\n",
       "      <td>1</td>\n",
       "      <td>0</td>\n",
       "      <td>53.1000</td>\n",
       "      <td>S</td>\n",
       "    </tr>\n",
       "    <tr>\n",
       "      <th>4</th>\n",
       "      <td>0</td>\n",
       "      <td>3</td>\n",
       "      <td>1</td>\n",
       "      <td>35.0</td>\n",
       "      <td>0</td>\n",
       "      <td>0</td>\n",
       "      <td>8.0500</td>\n",
       "      <td>S</td>\n",
       "    </tr>\n",
       "  </tbody>\n",
       "</table>\n",
       "</div>"
      ],
      "text/plain": [
       "   Survived  Pclass  Sex   Age  SibSp  Parch     Fare Embarked\n",
       "0         0       3    1  22.0      1      0   7.2500        S\n",
       "1         1       1    0  38.0      1      0  71.2833        C\n",
       "2         1       3    0  26.0      0      0   7.9250        S\n",
       "3         1       1    0  35.0      1      0  53.1000        S\n",
       "4         0       3    1  35.0      0      0   8.0500        S"
      ]
     },
     "execution_count": 65,
     "metadata": {},
     "output_type": "execute_result"
    }
   ],
   "source": [
    "train.head()"
   ]
  },
  {
   "cell_type": "code",
   "execution_count": 66,
   "metadata": {
    "execution": {
     "iopub.execute_input": "2025-05-24T15:20:43.486200Z",
     "iopub.status.busy": "2025-05-24T15:20:43.485630Z",
     "iopub.status.idle": "2025-05-24T15:20:43.516168Z",
     "shell.execute_reply": "2025-05-24T15:20:43.515134Z",
     "shell.execute_reply.started": "2025-05-24T15:20:43.486171Z"
    },
    "trusted": true
   },
   "outputs": [
    {
     "name": "stdout",
     "output_type": "stream",
     "text": [
      "<class 'pandas.core.frame.DataFrame'>\n",
      "RangeIndex: 891 entries, 0 to 890\n",
      "Data columns (total 8 columns):\n",
      " #   Column    Non-Null Count  Dtype  \n",
      "---  ------    --------------  -----  \n",
      " 0   Survived  891 non-null    int64  \n",
      " 1   Pclass    891 non-null    int64  \n",
      " 2   Sex       891 non-null    int64  \n",
      " 3   Age       891 non-null    float64\n",
      " 4   SibSp     891 non-null    int64  \n",
      " 5   Parch     891 non-null    int64  \n",
      " 6   Fare      891 non-null    float64\n",
      " 7   Embarked  891 non-null    object \n",
      "dtypes: float64(2), int64(5), object(1)\n",
      "memory usage: 55.8+ KB\n"
     ]
    }
   ],
   "source": [
    "train.info()"
   ]
  },
  {
   "cell_type": "code",
   "execution_count": 67,
   "metadata": {
    "execution": {
     "iopub.execute_input": "2025-05-24T15:20:43.518046Z",
     "iopub.status.busy": "2025-05-24T15:20:43.517671Z",
     "iopub.status.idle": "2025-05-24T15:20:43.545507Z",
     "shell.execute_reply": "2025-05-24T15:20:43.544584Z",
     "shell.execute_reply.started": "2025-05-24T15:20:43.518014Z"
    },
    "trusted": true
   },
   "outputs": [
    {
     "name": "stdout",
     "output_type": "stream",
     "text": [
      "<class 'pandas.core.frame.DataFrame'>\n",
      "RangeIndex: 418 entries, 0 to 417\n",
      "Data columns (total 7 columns):\n",
      " #   Column    Non-Null Count  Dtype  \n",
      "---  ------    --------------  -----  \n",
      " 0   Pclass    418 non-null    int64  \n",
      " 1   Sex       418 non-null    int64  \n",
      " 2   Age       418 non-null    float64\n",
      " 3   SibSp     418 non-null    int64  \n",
      " 4   Parch     418 non-null    int64  \n",
      " 5   Fare      418 non-null    float64\n",
      " 6   Embarked  418 non-null    object \n",
      "dtypes: float64(2), int64(4), object(1)\n",
      "memory usage: 23.0+ KB\n"
     ]
    }
   ],
   "source": [
    "test.info()"
   ]
  },
  {
   "cell_type": "code",
   "execution_count": 68,
   "metadata": {
    "execution": {
     "iopub.execute_input": "2025-05-24T15:20:43.546779Z",
     "iopub.status.busy": "2025-05-24T15:20:43.546455Z",
     "iopub.status.idle": "2025-05-24T15:20:43.577438Z",
     "shell.execute_reply": "2025-05-24T15:20:43.576029Z",
     "shell.execute_reply.started": "2025-05-24T15:20:43.546751Z"
    },
    "trusted": true
   },
   "outputs": [],
   "source": [
    "scaler = StandardScaler()\n",
    "X_train= scaler.fit_transform(X_train)\n",
    "X_test = scaler.transform(X_test)\n",
    "# Save scaler to correct path\n",
    "with open(\"saved_models/scaler.pkl\", \"wb\") as f:\n",
    "    pickle.dump(scaler, f)"
   ]
  },
  {
   "cell_type": "code",
   "execution_count": 69,
   "metadata": {
    "execution": {
     "iopub.execute_input": "2025-05-24T15:20:43.579017Z",
     "iopub.status.busy": "2025-05-24T15:20:43.578547Z",
     "iopub.status.idle": "2025-05-24T15:20:43.598028Z",
     "shell.execute_reply": "2025-05-24T15:20:43.596662Z",
     "shell.execute_reply.started": "2025-05-24T15:20:43.578994Z"
    },
    "trusted": true
   },
   "outputs": [
    {
     "name": "stdout",
     "output_type": "stream",
     "text": [
      "[[ 0.82737724  0.73769513 -0.5924806  ... -0.48204268 -0.30756234\n",
      "   0.61583843]\n",
      " [-1.56610693 -1.35557354  0.63878901 ...  2.0745051  -0.30756234\n",
      "  -1.62380254]\n",
      " [ 0.82737724 -1.35557354 -0.2846632  ... -0.48204268 -0.30756234\n",
      "   0.61583843]\n",
      " ...\n",
      " [ 0.82737724 -1.35557354  0.         ... -0.48204268 -0.30756234\n",
      "   0.61583843]\n",
      " [-1.56610693  0.73769513 -0.2846632  ...  2.0745051  -0.30756234\n",
      "  -1.62380254]\n",
      " [ 0.82737724  0.73769513  0.17706291 ... -0.48204268  3.25137334\n",
      "  -1.62380254]]\n"
     ]
    }
   ],
   "source": [
    "print(X_train)"
   ]
  },
  {
   "cell_type": "markdown",
   "metadata": {},
   "source": [
    "## Grid Search CV"
   ]
  },
  {
   "cell_type": "code",
   "execution_count": 70,
   "metadata": {
    "execution": {
     "iopub.execute_input": "2025-05-24T15:20:43.599405Z",
     "iopub.status.busy": "2025-05-24T15:20:43.598983Z",
     "iopub.status.idle": "2025-05-24T15:20:43.620020Z",
     "shell.execute_reply": "2025-05-24T15:20:43.618931Z",
     "shell.execute_reply.started": "2025-05-24T15:20:43.599380Z"
    },
    "trusted": true
   },
   "outputs": [],
   "source": [
    "# Scikit-learn Classification Models\n",
    "\n",
    "from sklearn.linear_model import LogisticRegression\n",
    "from sklearn.neighbors import KNeighborsClassifier\n",
    "from sklearn.svm import SVC\n",
    "from sklearn.tree import DecisionTreeClassifier\n",
    "from sklearn.ensemble import RandomForestClassifier\n",
    "from sklearn.ensemble import GradientBoostingClassifier\n",
    "from sklearn.ensemble import AdaBoostClassifier\n",
    "from sklearn.ensemble import BaggingClassifier\n",
    "from sklearn.naive_bayes import GaussianNB\n",
    "\n",
    "from sklearn.model_selection import GridSearchCV\n",
    "from sklearn.metrics import classification_report, confusion_matrix"
   ]
  },
  {
   "cell_type": "code",
   "execution_count": 71,
   "metadata": {
    "execution": {
     "iopub.execute_input": "2025-05-24T15:20:43.621668Z",
     "iopub.status.busy": "2025-05-24T15:20:43.621407Z",
     "iopub.status.idle": "2025-05-24T15:20:43.648331Z",
     "shell.execute_reply": "2025-05-24T15:20:43.647409Z",
     "shell.execute_reply.started": "2025-05-24T15:20:43.621647Z"
    },
    "trusted": true
   },
   "outputs": [],
   "source": [
    "models = {\n",
    "    \"Logistic Regression\": (\n",
    "        LogisticRegression(max_iter=1000),\n",
    "        {\"C\": [0.1, 1, 10], \"solver\": [\"liblinear\", \"lbfgs\"]}\n",
    "    ),\n",
    "    \"KNN\": (\n",
    "        KNeighborsClassifier(),\n",
    "        {\"n_neighbors\": [3, 5, 7]}\n",
    "    ),\n",
    "    \"SVM\": (\n",
    "        SVC(),\n",
    "        {\"C\": [0.1, 1, 10], \"kernel\": [\"linear\", \"rbf\"]}\n",
    "    ),\n",
    "    \"Decision Tree\": (\n",
    "        DecisionTreeClassifier(),\n",
    "        {\"max_depth\": [None, 5, 10]}\n",
    "    ),\n",
    "    \"Random Forest\": (\n",
    "        RandomForestClassifier(),\n",
    "        {\"n_estimators\": [50, 100], \"max_depth\": [None, 10]}\n",
    "    ),\n",
    "    \"Gradient Boosting\": (\n",
    "        GradientBoostingClassifier(),\n",
    "        {\"n_estimators\": [50, 100], \"learning_rate\": [0.01, 0.1]}\n",
    "    ),\n",
    "    \"AdaBoost\": (\n",
    "        AdaBoostClassifier(),\n",
    "        {\"n_estimators\": [50, 100]}\n",
    "    ),\n",
    "    \"Bagging\": (\n",
    "        BaggingClassifier(),\n",
    "        {\"n_estimators\": [10, 50]}\n",
    "    ),\n",
    "    \"Naive Bayes\": (\n",
    "        GaussianNB(),\n",
    "        {} \n",
    "    ),\n",
    "\n",
    "}\n"
   ]
  },
  {
   "cell_type": "code",
   "execution_count": 72,
   "metadata": {
    "execution": {
     "iopub.execute_input": "2025-05-24T15:20:43.652947Z",
     "iopub.status.busy": "2025-05-24T15:20:43.652653Z",
     "iopub.status.idle": "2025-05-24T15:20:48.338186Z",
     "shell.execute_reply": "2025-05-24T15:20:48.337263Z",
     "shell.execute_reply.started": "2025-05-24T15:20:43.652926Z"
    },
    "trusted": true
   },
   "outputs": [
    {
     "name": "stdout",
     "output_type": "stream",
     "text": [
      "===========================================================================\n",
      "🔍 Tuning Logistic Regression...\n",
      "---------------------------------------------------------------------------\n",
      " Best Score: 0.7901\n",
      "Best Params: {'C': 0.1, 'solver': 'lbfgs'}\n",
      "Best Estimator: LogisticRegression(C=0.1, max_iter=1000)\n",
      "\n",
      "\n",
      "\n",
      "===========================================================================\n",
      "🔍 Tuning KNN...\n",
      "---------------------------------------------------------------------------\n",
      " Best Score: 0.8047\n",
      "Best Params: {'n_neighbors': 5}\n",
      "Best Estimator: KNeighborsClassifier()\n",
      "\n",
      "\n",
      "\n",
      "===========================================================================\n",
      "🔍 Tuning SVM...\n",
      "---------------------------------------------------------------------------\n",
      " Best Score: 0.8249\n",
      "Best Params: {'C': 1, 'kernel': 'rbf'}\n",
      "Best Estimator: SVC(C=1)\n",
      "\n",
      "\n",
      "\n",
      "===========================================================================\n",
      "🔍 Tuning Decision Tree...\n",
      "---------------------------------------------------------------------------\n",
      " Best Score: 0.8126\n",
      "Best Params: {'max_depth': 5}\n",
      "Best Estimator: DecisionTreeClassifier(max_depth=5)\n",
      "\n",
      "\n",
      "\n",
      "===========================================================================\n",
      "🔍 Tuning Random Forest...\n",
      "---------------------------------------------------------------------------\n",
      " Best Score: 0.8306\n",
      "Best Params: {'max_depth': 10, 'n_estimators': 50}\n",
      "Best Estimator: RandomForestClassifier(max_depth=10, n_estimators=50)\n",
      "\n",
      "\n",
      "\n",
      "===========================================================================\n",
      "🔍 Tuning Gradient Boosting...\n",
      "---------------------------------------------------------------------------\n",
      " Best Score: 0.8182\n",
      "Best Params: {'learning_rate': 0.1, 'n_estimators': 100}\n",
      "Best Estimator: GradientBoostingClassifier()\n",
      "\n",
      "\n",
      "\n",
      "===========================================================================\n",
      "🔍 Tuning AdaBoost...\n",
      "---------------------------------------------------------------------------\n",
      " Best Score: 0.8002\n",
      "Best Params: {'n_estimators': 50}\n",
      "Best Estimator: AdaBoostClassifier()\n",
      "\n",
      "\n",
      "\n",
      "===========================================================================\n",
      "🔍 Tuning Bagging...\n",
      "---------------------------------------------------------------------------\n",
      " Best Score: 0.8126\n",
      "Best Params: {'n_estimators': 50}\n",
      "Best Estimator: BaggingClassifier(n_estimators=50)\n",
      "\n",
      "\n",
      "\n",
      "===========================================================================\n",
      "🔍 Tuning Naive Bayes...\n",
      "---------------------------------------------------------------------------\n",
      " Best Score: 0.7734\n",
      "Best Params: {}\n",
      "Best Estimator: GaussianNB()\n",
      "\n",
      "\n",
      "\n",
      "✅ All models saved separately in the 'saved_models' folder.\n"
     ]
    }
   ],
   "source": [
    "import pickle\n",
    "import os\n",
    "from sklearn.model_selection import GridSearchCV\n",
    "\n",
    "# Create a directory to store model files\n",
    "os.makedirs(\"saved_models\", exist_ok=True)\n",
    "\n",
    "best_scores = {}\n",
    "best_params = {}\n",
    "best_estimators = {}\n",
    "\n",
    "for name, (model, params) in models.items():\n",
    "    print(\"=\"*75)\n",
    "    print(f\"🔍 Tuning {name}...\")\n",
    "    print(\"-\"*75)\n",
    "    \n",
    "    grid = GridSearchCV(model, params, cv=5, scoring='accuracy', n_jobs=-1)\n",
    "    grid.fit(X_train, y_train)\n",
    "\n",
    "    best_score = grid.best_score_\n",
    "    best_param = grid.best_params_\n",
    "    best_estimator = grid.best_estimator_\n",
    "\n",
    "    best_scores[name] = best_score\n",
    "    best_params[name] = best_param\n",
    "    best_estimators[name] = best_estimator\n",
    "\n",
    "    print(f\" Best Score: {best_score:.4f}\")\n",
    "    print(f\"Best Params: {best_param}\")\n",
    "    print(f\"Best Estimator: {best_estimator}\")\n",
    "    print(\"\\n\\n\")\n",
    "\n",
    "    # Save each model's details to a separate file\n",
    "    model_data = {\n",
    "        \"name\": name,\n",
    "        \"best_score\": best_score,\n",
    "        \"best_params\": best_param,\n",
    "        \"best_estimator\": best_estimator\n",
    "    }\n",
    "    with open(f\"saved_models/{name}_model.pkl\", \"wb\") as f:\n",
    "        pickle.dump(model_data, f)\n",
    "\n",
    "print(\"✅ All models saved separately in the 'saved_models' folder.\")\n"
   ]
  },
  {
   "cell_type": "code",
   "execution_count": 73,
   "metadata": {
    "execution": {
     "iopub.execute_input": "2025-05-24T15:20:48.339345Z",
     "iopub.status.busy": "2025-05-24T15:20:48.339060Z",
     "iopub.status.idle": "2025-05-24T15:20:48.346417Z",
     "shell.execute_reply": "2025-05-24T15:20:48.345326Z",
     "shell.execute_reply.started": "2025-05-24T15:20:48.339316Z"
    },
    "trusted": true
   },
   "outputs": [
    {
     "name": "stdout",
     "output_type": "stream",
     "text": [
      "\n",
      " Best Model: Random Forest\n",
      " Accuracy: 0.8306\n",
      " Params: {'max_depth': 10, 'n_estimators': 50}\n",
      " Estimator: RandomForestClassifier(max_depth=10, n_estimators=50)\n"
     ]
    }
   ],
   "source": [
    "# Find the best model name by highest score\n",
    "best_model_name = max(best_scores, key=best_scores.get)\n",
    "best_model = best_estimators[best_model_name]\n",
    "\n",
    "print(f\"\\n Best Model: {best_model_name}\")\n",
    "print(f\" Accuracy: {best_scores[best_model_name]:.4f}\")\n",
    "print(f\" Params: {best_params[best_model_name]}\")\n",
    "print(f\" Estimator: {best_model}\")\n"
   ]
  },
  {
   "cell_type": "markdown",
   "metadata": {},
   "source": [
    "## Result"
   ]
  },
  {
   "cell_type": "code",
   "execution_count": 74,
   "metadata": {
    "execution": {
     "iopub.execute_input": "2025-05-24T15:20:48.348191Z",
     "iopub.status.busy": "2025-05-24T15:20:48.347662Z",
     "iopub.status.idle": "2025-05-24T15:20:48.779400Z",
     "shell.execute_reply": "2025-05-24T15:20:48.778284Z",
     "shell.execute_reply.started": "2025-05-24T15:20:48.348159Z"
    },
    "trusted": true
   },
   "outputs": [
    {
     "name": "stderr",
     "output_type": "stream",
     "text": [
      "/var/folders/99/qs2y_kdd0sz89zdtycrs8qm40000gn/T/ipykernel_72723/489881564.py:3: FutureWarning: \n",
      "\n",
      "Passing `palette` without assigning `hue` is deprecated and will be removed in v0.14.0. Assign the `x` variable to `hue` and set `legend=False` for the same effect.\n",
      "\n",
      "  sns.barplot(x=list(best_scores.keys()), y=list(best_scores.values()), palette=\"viridis\")\n"
     ]
    },
    {
     "data": {
      "image/png": "[encoded data removed]",
      "text/plain": [
       "<Figure size 1000x600 with 1 Axes>"
      ]
     },
     "metadata": {},
     "output_type": "display_data"
    }
   ],
   "source": [
    "# 📊 Plotting best scores\n",
    "plt.figure(figsize=(10, 6))\n",
    "sns.barplot(x=list(best_scores.keys()), y=list(best_scores.values()), palette=\"viridis\")\n",
    "plt.title(\"Best Accuracy Score of Each Model\", fontsize=16)\n",
    "plt.xlabel(\"Model\", fontsize=12)\n",
    "plt.ylabel(\"Best Cross-Validated Accuracy\", fontsize=12)\n",
    "plt.ylim(0, 1)\n",
    "plt.xticks(rotation=45)\n",
    "plt.tight_layout()\n",
    "plt.show()"
   ]
  },
  {
   "cell_type": "code",
   "execution_count": 75,
   "metadata": {
    "execution": {
     "iopub.execute_input": "2025-05-24T15:20:48.780638Z",
     "iopub.status.busy": "2025-05-24T15:20:48.780267Z",
     "iopub.status.idle": "2025-05-24T15:20:48.803470Z",
     "shell.execute_reply": "2025-05-24T15:20:48.802379Z",
     "shell.execute_reply.started": "2025-05-24T15:20:48.780609Z"
    },
    "trusted": true
   },
   "outputs": [
    {
     "data": {
      "text/html": [
       "<div>\n",
       "<style scoped>\n",
       "    .dataframe tbody tr th:only-of-type {\n",
       "        vertical-align: middle;\n",
       "    }\n",
       "\n",
       "    .dataframe tbody tr th {\n",
       "        vertical-align: top;\n",
       "    }\n",
       "\n",
       "    .dataframe thead th {\n",
       "        text-align: right;\n",
       "    }\n",
       "</style>\n",
       "<table border=\"1\" class=\"dataframe\">\n",
       "  <thead>\n",
       "    <tr style=\"text-align: right;\">\n",
       "      <th></th>\n",
       "      <th>Pclass</th>\n",
       "      <th>Sex</th>\n",
       "      <th>Age</th>\n",
       "      <th>SibSp</th>\n",
       "      <th>Parch</th>\n",
       "      <th>Fare</th>\n",
       "      <th>Embarked</th>\n",
       "      <th>pred_survived</th>\n",
       "    </tr>\n",
       "  </thead>\n",
       "  <tbody>\n",
       "    <tr>\n",
       "      <th>0</th>\n",
       "      <td>3</td>\n",
       "      <td>1</td>\n",
       "      <td>34.5</td>\n",
       "      <td>0</td>\n",
       "      <td>0</td>\n",
       "      <td>7.8292</td>\n",
       "      <td>Q</td>\n",
       "      <td>0</td>\n",
       "    </tr>\n",
       "    <tr>\n",
       "      <th>1</th>\n",
       "      <td>3</td>\n",
       "      <td>0</td>\n",
       "      <td>47.0</td>\n",
       "      <td>1</td>\n",
       "      <td>0</td>\n",
       "      <td>7.0000</td>\n",
       "      <td>S</td>\n",
       "      <td>0</td>\n",
       "    </tr>\n",
       "    <tr>\n",
       "      <th>2</th>\n",
       "      <td>2</td>\n",
       "      <td>1</td>\n",
       "      <td>62.0</td>\n",
       "      <td>0</td>\n",
       "      <td>0</td>\n",
       "      <td>9.6875</td>\n",
       "      <td>Q</td>\n",
       "      <td>0</td>\n",
       "    </tr>\n",
       "    <tr>\n",
       "      <th>3</th>\n",
       "      <td>3</td>\n",
       "      <td>1</td>\n",
       "      <td>27.0</td>\n",
       "      <td>0</td>\n",
       "      <td>0</td>\n",
       "      <td>8.6625</td>\n",
       "      <td>S</td>\n",
       "      <td>0</td>\n",
       "    </tr>\n",
       "    <tr>\n",
       "      <th>4</th>\n",
       "      <td>3</td>\n",
       "      <td>0</td>\n",
       "      <td>22.0</td>\n",
       "      <td>1</td>\n",
       "      <td>1</td>\n",
       "      <td>12.2875</td>\n",
       "      <td>S</td>\n",
       "      <td>0</td>\n",
       "    </tr>\n",
       "    <tr>\n",
       "      <th>...</th>\n",
       "      <td>...</td>\n",
       "      <td>...</td>\n",
       "      <td>...</td>\n",
       "      <td>...</td>\n",
       "      <td>...</td>\n",
       "      <td>...</td>\n",
       "      <td>...</td>\n",
       "      <td>...</td>\n",
       "    </tr>\n",
       "    <tr>\n",
       "      <th>413</th>\n",
       "      <td>3</td>\n",
       "      <td>1</td>\n",
       "      <td>27.0</td>\n",
       "      <td>0</td>\n",
       "      <td>0</td>\n",
       "      <td>8.0500</td>\n",
       "      <td>S</td>\n",
       "      <td>0</td>\n",
       "    </tr>\n",
       "    <tr>\n",
       "      <th>414</th>\n",
       "      <td>1</td>\n",
       "      <td>0</td>\n",
       "      <td>39.0</td>\n",
       "      <td>0</td>\n",
       "      <td>0</td>\n",
       "      <td>108.9000</td>\n",
       "      <td>C</td>\n",
       "      <td>1</td>\n",
       "    </tr>\n",
       "    <tr>\n",
       "      <th>415</th>\n",
       "      <td>3</td>\n",
       "      <td>1</td>\n",
       "      <td>38.5</td>\n",
       "      <td>0</td>\n",
       "      <td>0</td>\n",
       "      <td>7.2500</td>\n",
       "      <td>S</td>\n",
       "      <td>0</td>\n",
       "    </tr>\n",
       "    <tr>\n",
       "      <th>416</th>\n",
       "      <td>3</td>\n",
       "      <td>1</td>\n",
       "      <td>27.0</td>\n",
       "      <td>0</td>\n",
       "      <td>0</td>\n",
       "      <td>8.0500</td>\n",
       "      <td>S</td>\n",
       "      <td>0</td>\n",
       "    </tr>\n",
       "    <tr>\n",
       "      <th>417</th>\n",
       "      <td>3</td>\n",
       "      <td>1</td>\n",
       "      <td>27.0</td>\n",
       "      <td>1</td>\n",
       "      <td>1</td>\n",
       "      <td>22.3583</td>\n",
       "      <td>C</td>\n",
       "      <td>1</td>\n",
       "    </tr>\n",
       "  </tbody>\n",
       "</table>\n",
       "<p>418 rows × 8 columns</p>\n",
       "</div>"
      ],
      "text/plain": [
       "     Pclass  Sex   Age  SibSp  Parch      Fare Embarked  pred_survived\n",
       "0         3    1  34.5      0      0    7.8292        Q              0\n",
       "1         3    0  47.0      1      0    7.0000        S              0\n",
       "2         2    1  62.0      0      0    9.6875        Q              0\n",
       "3         3    1  27.0      0      0    8.6625        S              0\n",
       "4         3    0  22.0      1      1   12.2875        S              0\n",
       "..      ...  ...   ...    ...    ...       ...      ...            ...\n",
       "413       3    1  27.0      0      0    8.0500        S              0\n",
       "414       1    0  39.0      0      0  108.9000        C              1\n",
       "415       3    1  38.5      0      0    7.2500        S              0\n",
       "416       3    1  27.0      0      0    8.0500        S              0\n",
       "417       3    1  27.0      1      1   22.3583        C              1\n",
       "\n",
       "[418 rows x 8 columns]"
      ]
     },
     "execution_count": 75,
     "metadata": {},
     "output_type": "execute_result"
    }
   ],
   "source": [
    "y_pred = best_model.predict(X_test)\n",
    "test['pred_survived']=y_pred\n",
    "test"
   ]
  },
  {
   "cell_type": "code",
   "execution_count": 76,
   "metadata": {
    "execution": {
     "iopub.execute_input": "2025-05-24T15:20:48.804742Z",
     "iopub.status.busy": "2025-05-24T15:20:48.804479Z",
     "iopub.status.idle": "2025-05-24T15:20:48.812681Z",
     "shell.execute_reply": "2025-05-24T15:20:48.811938Z",
     "shell.execute_reply.started": "2025-05-24T15:20:48.804721Z"
    },
    "trusted": true
   },
   "outputs": [
    {
     "data": {
      "text/plain": [
       "0    271\n",
       "1    147\n",
       "Name: pred_survived, dtype: int64"
      ]
     },
     "execution_count": 76,
     "metadata": {},
     "output_type": "execute_result"
    }
   ],
   "source": [
    "test['pred_survived'].value_counts()"
   ]
  },
  {
   "cell_type": "code",
   "execution_count": 77,
   "metadata": {
    "execution": {
     "iopub.execute_input": "2025-05-24T15:20:48.814125Z",
     "iopub.status.busy": "2025-05-24T15:20:48.813794Z",
     "iopub.status.idle": "2025-05-24T15:20:48.832613Z",
     "shell.execute_reply": "2025-05-24T15:20:48.831659Z",
     "shell.execute_reply.started": "2025-05-24T15:20:48.814097Z"
    },
    "trusted": true
   },
   "outputs": [
    {
     "data": {
      "text/plain": [
       "0    549\n",
       "1    342\n",
       "Name: Survived, dtype: int64"
      ]
     },
     "execution_count": 77,
     "metadata": {},
     "output_type": "execute_result"
    }
   ],
   "source": [
    "train['Survived'].value_counts()"
   ]
  },
  {
   "cell_type": "code",
   "execution_count": 78,
   "metadata": {
    "execution": {
     "iopub.execute_input": "2025-05-24T15:20:48.833929Z",
     "iopub.status.busy": "2025-05-24T15:20:48.833609Z",
     "iopub.status.idle": "2025-05-24T15:20:48.857661Z",
     "shell.execute_reply": "2025-05-24T15:20:48.856438Z",
     "shell.execute_reply.started": "2025-05-24T15:20:48.833905Z"
    },
    "trusted": true
   },
   "outputs": [
    {
     "data": {
      "text/plain": [
       "30.41526374859708"
      ]
     },
     "execution_count": 78,
     "metadata": {},
     "output_type": "execute_result"
    }
   ],
   "source": [
    "test['pred_survived'].value_counts().iloc[0]/len(train)*100"
   ]
  },
  {
   "cell_type": "code",
   "execution_count": 79,
   "metadata": {
    "execution": {
     "iopub.execute_input": "2025-05-24T15:20:48.859229Z",
     "iopub.status.busy": "2025-05-24T15:20:48.858876Z",
     "iopub.status.idle": "2025-05-24T15:20:48.887120Z",
     "shell.execute_reply": "2025-05-24T15:20:48.886233Z",
     "shell.execute_reply.started": "2025-05-24T15:20:48.859182Z"
    },
    "trusted": true
   },
   "outputs": [
    {
     "data": {
      "text/html": [
       "<div>\n",
       "<style scoped>\n",
       "    .dataframe tbody tr th:only-of-type {\n",
       "        vertical-align: middle;\n",
       "    }\n",
       "\n",
       "    .dataframe tbody tr th {\n",
       "        vertical-align: top;\n",
       "    }\n",
       "\n",
       "    .dataframe thead th {\n",
       "        text-align: right;\n",
       "    }\n",
       "</style>\n",
       "<table border=\"1\" class=\"dataframe\">\n",
       "  <thead>\n",
       "    <tr style=\"text-align: right;\">\n",
       "      <th></th>\n",
       "      <th>Survived</th>\n",
       "    </tr>\n",
       "  </thead>\n",
       "  <tbody>\n",
       "    <tr>\n",
       "      <th>0</th>\n",
       "      <td>0</td>\n",
       "    </tr>\n",
       "    <tr>\n",
       "      <th>1</th>\n",
       "      <td>1</td>\n",
       "    </tr>\n",
       "    <tr>\n",
       "      <th>2</th>\n",
       "      <td>0</td>\n",
       "    </tr>\n",
       "    <tr>\n",
       "      <th>3</th>\n",
       "      <td>0</td>\n",
       "    </tr>\n",
       "    <tr>\n",
       "      <th>4</th>\n",
       "      <td>1</td>\n",
       "    </tr>\n",
       "    <tr>\n",
       "      <th>...</th>\n",
       "      <td>...</td>\n",
       "    </tr>\n",
       "    <tr>\n",
       "      <th>413</th>\n",
       "      <td>0</td>\n",
       "    </tr>\n",
       "    <tr>\n",
       "      <th>414</th>\n",
       "      <td>1</td>\n",
       "    </tr>\n",
       "    <tr>\n",
       "      <th>415</th>\n",
       "      <td>0</td>\n",
       "    </tr>\n",
       "    <tr>\n",
       "      <th>416</th>\n",
       "      <td>0</td>\n",
       "    </tr>\n",
       "    <tr>\n",
       "      <th>417</th>\n",
       "      <td>0</td>\n",
       "    </tr>\n",
       "  </tbody>\n",
       "</table>\n",
       "<p>418 rows × 1 columns</p>\n",
       "</div>"
      ],
      "text/plain": [
       "     Survived\n",
       "0           0\n",
       "1           1\n",
       "2           0\n",
       "3           0\n",
       "4           1\n",
       "..        ...\n",
       "413         0\n",
       "414         1\n",
       "415         0\n",
       "416         0\n",
       "417         0\n",
       "\n",
       "[418 rows x 1 columns]"
      ]
     },
     "execution_count": 79,
     "metadata": {},
     "output_type": "execute_result"
    }
   ],
   "source": [
    "y_test=pd.read_csv(\"gender_submission.csv\")\n",
    "y_test=y_test.drop(['PassengerId'],axis=1)\n",
    "y_test"
   ]
  },
  {
   "cell_type": "code",
   "execution_count": 80,
   "metadata": {
    "execution": {
     "iopub.execute_input": "2025-05-24T15:20:48.888569Z",
     "iopub.status.busy": "2025-05-24T15:20:48.888246Z",
     "iopub.status.idle": "2025-05-24T15:20:48.908802Z",
     "shell.execute_reply": "2025-05-24T15:20:48.907658Z",
     "shell.execute_reply.started": "2025-05-24T15:20:48.888542Z"
    },
    "trusted": true
   },
   "outputs": [
    {
     "name": "stdout",
     "output_type": "stream",
     "text": [
      "accuracy_score 0.8588516746411483\n",
      "classification report                precision    recall  f1-score   support\n",
      "\n",
      "           0       0.88      0.90      0.89       266\n",
      "           1       0.82      0.79      0.80       152\n",
      "\n",
      "    accuracy                           0.86       418\n",
      "   macro avg       0.85      0.84      0.85       418\n",
      "weighted avg       0.86      0.86      0.86       418\n",
      "\n"
     ]
    }
   ],
   "source": [
    "from sklearn.metrics import classification_report, accuracy_score\n",
    "print(\"accuracy_score\",accuracy_score(y_test,test['pred_survived']))\n",
    "print(\"classification report \",classification_report(y_test,test['pred_survived']))"
   ]
  },
  {
   "cell_type": "code",
   "execution_count": 81,
   "metadata": {
    "execution": {
     "iopub.execute_input": "2025-05-24T15:20:48.910623Z",
     "iopub.status.busy": "2025-05-24T15:20:48.910379Z",
     "iopub.status.idle": "2025-05-24T15:20:49.131107Z",
     "shell.execute_reply": "2025-05-24T15:20:49.129875Z",
     "shell.execute_reply.started": "2025-05-24T15:20:48.910604Z"
    },
    "trusted": true
   },
   "outputs": [
    {
     "data": {
      "image/png": "[encoded data removed]",
      "text/plain": [
       "<Figure size 640x480 with 2 Axes>"
      ]
     },
     "metadata": {},
     "output_type": "display_data"
    }
   ],
   "source": [
    "from sklearn.metrics import confusion_matrix, ConfusionMatrixDisplay\n",
    "\n",
    "cm = confusion_matrix(y_test, test['pred_survived'])\n",
    "disp = ConfusionMatrixDisplay(confusion_matrix=cm, display_labels=['Not Survived', 'Survived'])\n",
    "disp.plot(cmap='Blues')\n",
    "plt.title(\"Confusion Matrix\")\n",
    "plt.show()\n"
   ]
  },
  {
   "cell_type": "code",
   "execution_count": 82,
   "metadata": {
    "execution": {
     "iopub.execute_input": "2025-05-24T15:20:49.132508Z",
     "iopub.status.busy": "2025-05-24T15:20:49.132147Z",
     "iopub.status.idle": "2025-05-24T15:20:49.150418Z",
     "shell.execute_reply": "2025-05-24T15:20:49.149466Z",
     "shell.execute_reply.started": "2025-05-24T15:20:49.132477Z"
    },
    "trusted": true
   },
   "outputs": [
    {
     "name": "stdout",
     "output_type": "stream",
     "text": [
      "among 891 people 549 (61.62%) died and 342 (38.38%) in train data\n",
      "among 418 people 266 (63.64%) died and 152 (36.36%) in test data\n",
      "among 418 people 271 (64.83%) died and 147 (35.17%) in test data predict\n"
     ]
    }
   ],
   "source": [
    "print(f\"among {len(train)} people {train['Survived'].value_counts().iloc[0]} ({round((train['Survived'].value_counts().iloc[0]) / len(train) * 100, 2)}%) died and {train['Survived'].value_counts().iloc[1]} ({round(train['Survived'].value_counts().iloc[1] / len(train) * 100, 2)}%) in train data\")\n",
    "\n",
    "print(f\"among {len(test)} people {y_test.value_counts().iloc[0]} ({round((y_test.value_counts().iloc[0]) / len(test) * 100, 2)}%) died and {y_test.value_counts().iloc[1]} ({round(y_test.value_counts().iloc[1] / len(test) * 100, 2)}%) in test data\")\n",
    "\n",
    "print(f\"among {len(test)} people {test['pred_survived'].value_counts().iloc[0]} ({round((test['pred_survived'].value_counts().iloc[0]) / len(test) * 100, 2)}%) died and {test['pred_survived'].value_counts().iloc[1]} ({round(test['pred_survived'].value_counts().iloc[1] / len(test) * 100, 2)}%) in test data predict\")\n"
   ]
  }
 ],
 "metadata": {
  "kaggle": {
   "accelerator": "none",
   "dataSources": [
    {
     "datasetId": 12609,
     "sourceId": 17243,
     "sourceType": "datasetVersion"
    }
   ],
   "dockerImageVersionId": 31040,
   "isGpuEnabled": false,
   "isInternetEnabled": true,
   "language": "python",
   "sourceType": "notebook"
  },
  "kernelspec": {
   "display_name": "base",
   "language": "python",
   "name": "python3"
  },
  "language_info": {
   "codemirror_mode": {
    "name": "ipython",
    "version": 3
   },
   "file_extension": ".py",
   "mimetype": "text/x-python",
   "name": "python",
   "nbconvert_exporter": "python",
   "pygments_lexer": "ipython3",
   "version": "3.10.14"
  }
 },
 "nbformat": 4,
 "nbformat_minor": 4
}
